{
 "cells": [
  {
   "cell_type": "markdown",
   "id": "334e8a3b-cd6b-4293-be9c-259be012d42e",
   "metadata": {},
   "source": [
    "## Основні завдання"
   ]
  },
  {
   "cell_type": "markdown",
   "id": "2d8ddccc-9f21-41a6-addc-3e072aaf9271",
   "metadata": {},
   "source": [
    "### Завдання 1"
   ]
  },
  {
   "cell_type": "code",
   "execution_count": 1,
   "id": "d7780044-25f0-47dc-94ec-e628440e3c57",
   "metadata": {},
   "outputs": [],
   "source": [
    "def filter_list(l):\n",
    "    return [i for i in l if type(i) is int]"
   ]
  },
  {
   "cell_type": "raw",
   "id": "50cbf666-b66d-4208-ab77-5412ca6a3fd4",
   "metadata": {},
   "source": [
    "Приклади використання:"
   ]
  },
  {
   "cell_type": "code",
   "execution_count": 2,
   "id": "480f3beb-d4ad-4ff9-b42a-1532b92c4c1d",
   "metadata": {},
   "outputs": [
    {
     "name": "stdout",
     "output_type": "stream",
     "text": [
      "[1, 2]\n",
      "[1, 0, 15]\n",
      "[1, 2, 123]\n"
     ]
    }
   ],
   "source": [
    "print(filter_list([1, 2, 'a', 'b']))\n",
    "print(filter_list([1, 'a', 'b', 0, 15]))\n",
    "print(filter_list([1, 2, 'aasf', '1', '123', 123]))"
   ]
  },
  {
   "cell_type": "markdown",
   "id": "1f6d8e27-6b72-4766-82d5-16a6dd216e2f",
   "metadata": {},
   "source": [
    "### Завдання 2"
   ]
  },
  {
   "cell_type": "code",
   "execution_count": 3,
   "id": "2d792f93-5fd7-43bd-be89-912bf7d6a681",
   "metadata": {},
   "outputs": [],
   "source": [
    "def first_non_repeating_letter(s):\n",
    "    for c in s:\n",
    "        if s.lower().count(c.lower()) == 1:\n",
    "            return c\n",
    "    return ''"
   ]
  },
  {
   "cell_type": "raw",
   "id": "3faa7c0c-5103-4936-bd95-d86d12ab9c61",
   "metadata": {},
   "source": [
    "Приклади використання:"
   ]
  },
  {
   "cell_type": "code",
   "execution_count": 4,
   "id": "bd40851e-f9d4-4fe7-b176-d7fa63f7a0be",
   "metadata": {},
   "outputs": [
    {
     "name": "stdout",
     "output_type": "stream",
     "text": [
      "t\n",
      "T\n"
     ]
    }
   ],
   "source": [
    "print(first_non_repeating_letter('stress'))\n",
    "print(first_non_repeating_letter('sTreSS'))"
   ]
  },
  {
   "cell_type": "markdown",
   "id": "bc66a87d-fa45-472e-bcd9-2f4d40cdfcf7",
   "metadata": {},
   "source": [
    "### Завдання 3"
   ]
  },
  {
   "cell_type": "code",
   "execution_count": 5,
   "id": "ffeb6f1e-b9bd-4899-babd-218cb21bc507",
   "metadata": {},
   "outputs": [],
   "source": [
    "def digital_root(n):\n",
    "    if(len(str(n)) == 1):\n",
    "        return n\n",
    "    return digital_root(sum(list(map(int, str(n)))))"
   ]
  },
  {
   "cell_type": "raw",
   "id": "c24a3a30-1778-44b6-919e-f577986f93f1",
   "metadata": {},
   "source": [
    "Приклади використання:"
   ]
  },
  {
   "cell_type": "code",
   "execution_count": 6,
   "id": "5a16eafd-486b-49ab-b9bb-7e8a2667f4e0",
   "metadata": {},
   "outputs": [
    {
     "name": "stdout",
     "output_type": "stream",
     "text": [
      "7\n",
      "6\n",
      "6\n",
      "2\n"
     ]
    }
   ],
   "source": [
    "print(digital_root(16))\n",
    "print(digital_root(942))\n",
    "print(digital_root(132189))\n",
    "print(digital_root(493193))"
   ]
  },
  {
   "cell_type": "markdown",
   "id": "e65dd5eb-ad0e-461c-8d60-a96fa395419c",
   "metadata": {},
   "source": [
    "### Завдання 4"
   ]
  },
  {
   "cell_type": "code",
   "execution_count": 7,
   "id": "2618b499-3fba-44d5-a004-f8946837009a",
   "metadata": {},
   "outputs": [],
   "source": [
    "def count_pairs(arr, target):\n",
    "    count = 0\n",
    "    for i in range(len(arr)):\n",
    "        for j in range(i, len(arr)):\n",
    "            if j+i == target:\n",
    "                count = count + 1\n",
    "    return count"
   ]
  },
  {
   "cell_type": "raw",
   "id": "878bb9cc-7ad4-4e29-8aa8-678a25e3b2e3",
   "metadata": {},
   "source": [
    "Приклади використання:"
   ]
  },
  {
   "cell_type": "code",
   "execution_count": 8,
   "id": "fbc71242-54e7-431d-9c75-352206939995",
   "metadata": {},
   "outputs": [
    {
     "data": {
      "text/plain": [
       "3"
      ]
     },
     "execution_count": 8,
     "metadata": {},
     "output_type": "execute_result"
    }
   ],
   "source": [
    "count_pairs([1, 3, 6, 2, 2, 0, 4, 5], 5)"
   ]
  },
  {
   "cell_type": "markdown",
   "id": "ca374e8e-a843-45b9-a28c-1296e331b805",
   "metadata": {},
   "source": [
    "### Завдання 5"
   ]
  },
  {
   "cell_type": "code",
   "execution_count": 9,
   "id": "f82ff247-137a-4b45-abc6-2414b3f29b08",
   "metadata": {},
   "outputs": [],
   "source": [
    "def invite_list(s):\n",
    "    temp1 = s.upper().split(';')\n",
    "    temp2 = sorted(list(map((lambda x: list(reversed(x.split(':')))), temp1)))\n",
    "    temp3 = list(map((lambda x: '(' + ', '.join(x) + ')'), temp2))\n",
    "    return ''.join(temp3)\n",
    "\n",
    "# можна було не створювати багато тимчасових змінних, але я вирішив так зробити для наочності виконаних кроків"
   ]
  },
  {
   "cell_type": "raw",
   "id": "5087c3a8-c1b4-45b1-8ed9-040478fc74db",
   "metadata": {},
   "source": [
    "Приклади використання:"
   ]
  },
  {
   "cell_type": "code",
   "execution_count": 10,
   "id": "3b1ddedc-0bf9-47d0-b0f5-e3b0b9ac144f",
   "metadata": {},
   "outputs": [
    {
     "data": {
      "text/plain": [
       "'(CORWILL, ALFRED)(CORWILL, FIRED)(CORWILL, RAPHAEL)(CORWILL, WILFRED)(TORNBULL, BARNEY)(TORNBULL, BETTY)(TORNBULL, BJON)'"
      ]
     },
     "execution_count": 10,
     "metadata": {},
     "output_type": "execute_result"
    }
   ],
   "source": [
    "s = \"Fired:Corwill;Wilfred:Corwill;Barney:TornBull;Betty:Tornbull;Bjon:Tornbull;Raphael:Corwill;Alfred:Corwill\"\n",
    "invite_list(s)"
   ]
  },
  {
   "cell_type": "markdown",
   "id": "2186d05e-d972-4dac-9e8f-8caabde82f8b",
   "metadata": {},
   "source": [
    "## Додаткові завдання"
   ]
  },
  {
   "cell_type": "markdown",
   "id": "a2fa3129-4bee-46e0-b8a2-6b8823f21949",
   "metadata": {},
   "source": [
    "### Завдання 1"
   ]
  },
  {
   "cell_type": "code",
   "execution_count": 11,
   "id": "dc4a551c-d463-4a0c-b036-c6fc76964d3f",
   "metadata": {},
   "outputs": [],
   "source": [
    "def nextBigger(n):\n",
    "    a = list(str(n))\n",
    "    a.reverse()\n",
    "    for i in range(0, len(a) - 1):\n",
    "        if a[i]>a[i+1]:\n",
    "            tail = a[i+2:]\n",
    "            flag = a[i+1]\n",
    "            start = sorted(a[:i+1])\n",
    "            for j in range(len(start)):\n",
    "                if start[j]>flag:\n",
    "                    flag, start[j] = start[j], flag\n",
    "                    break\n",
    "            return int((''.join(sorted(start, reverse = True))+str(flag)+''.join(tail))[::-1])\n",
    "    return -1"
   ]
  },
  {
   "cell_type": "raw",
   "id": "bbc36d69-66d5-44b3-a16a-92f1991ab133",
   "metadata": {},
   "source": [
    "Приклади використання:"
   ]
  },
  {
   "cell_type": "code",
   "execution_count": 12,
   "id": "11bc07fa-7c96-4bd6-befa-5d9d1925d4f1",
   "metadata": {},
   "outputs": [
    {
     "name": "stdout",
     "output_type": "stream",
     "text": [
      "21\n",
      "531\n",
      "2071\n",
      "-1\n",
      "-1\n",
      "-1\n"
     ]
    }
   ],
   "source": [
    "print(nextBigger(12))\n",
    "print(nextBigger(513))\n",
    "print(nextBigger(2017))\n",
    "print(nextBigger(9))\n",
    "print(nextBigger(111))\n",
    "print(nextBigger(531))"
   ]
  },
  {
   "cell_type": "markdown",
   "id": "3e156970-c4b8-4851-84b7-80f5d86dcead",
   "metadata": {},
   "source": [
    "### Завдання 2"
   ]
  },
  {
   "cell_type": "code",
   "execution_count": 13,
   "id": "a06e0cd1-c39b-4902-a77b-098b52844721",
   "metadata": {},
   "outputs": [],
   "source": [
    "def nToIPv4(n):\n",
    "    b = bin(n)[2:].zfill(32)\n",
    "    bins = [b[i:i+8] for i in range(0, len(b), 8)]\n",
    "    numbers = list(map(lambda x: str(int(x, 2)), bins))\n",
    "    return '.'.join(numbers)\n",
    "    "
   ]
  },
  {
   "cell_type": "raw",
   "id": "197f67ca-c81b-4fe3-9683-dc96633e3396",
   "metadata": {},
   "source": [
    "Приклади використання:"
   ]
  },
  {
   "cell_type": "code",
   "execution_count": 14,
   "id": "44480ded-3cb2-4afa-93b1-636c180c3b3a",
   "metadata": {},
   "outputs": [
    {
     "name": "stdout",
     "output_type": "stream",
     "text": [
      "128.32.10.1\n",
      "0.0.0.32\n",
      "0.0.0.0\n"
     ]
    }
   ],
   "source": [
    "print(nToIPv4(2149583361))\n",
    "print(nToIPv4(32))\n",
    "print(nToIPv4(0))"
   ]
  }
 ],
 "metadata": {
  "kernelspec": {
   "display_name": "Python 3 (ipykernel)",
   "language": "python",
   "name": "python3"
  },
  "language_info": {
   "codemirror_mode": {
    "name": "ipython",
    "version": 3
   },
   "file_extension": ".py",
   "mimetype": "text/x-python",
   "name": "python",
   "nbconvert_exporter": "python",
   "pygments_lexer": "ipython3",
   "version": "3.9.5"
  }
 },
 "nbformat": 4,
 "nbformat_minor": 5
}
